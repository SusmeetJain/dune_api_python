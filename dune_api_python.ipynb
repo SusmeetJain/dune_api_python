{
 "cells": [
  {
   "cell_type": "markdown",
   "id": "8185b19e",
   "metadata": {},
   "source": [
    "## Getting Set Up"
   ]
  },
  {
   "cell_type": "markdown",
   "id": "f9bae169",
   "metadata": {},
   "source": [
    "### Import the necessary libraries"
   ]
  },
  {
   "cell_type": "code",
   "execution_count": 1,
   "id": "58521fbe",
   "metadata": {},
   "outputs": [],
   "source": [
    "from requests import get, post\n",
    "import pandas as pd"
   ]
  },
  {
   "cell_type": "markdown",
   "id": "0eb6389b",
   "metadata": {},
   "source": [
    "### API Keys\n",
    "Add your API key here. We will pass it to any API calls we make through an header."
   ]
  },
  {
   "cell_type": "code",
   "execution_count": 2,
   "id": "23ad0c96",
   "metadata": {},
   "outputs": [],
   "source": [
    "API_KEY = \"YOUR_API_KEY\"\n",
    "HEADER = {\"x-dune-api-key\" : API_KEY}"
   ]
  },
  {
   "cell_type": "markdown",
   "id": "6f695796",
   "metadata": {},
   "source": [
    "### Simplifying URL generation\n",
    "Let us create a function to generate different URLs for different API endpoints. You would see this in action in the coming section."
   ]
  },
  {
   "cell_type": "code",
   "execution_count": 3,
   "id": "ceb913a9",
   "metadata": {},
   "outputs": [],
   "source": [
    "BASE_URL = \"https://api.dune.com/api/v1/\"\n",
    "\n",
    "def make_api_url(module, action, ID):\n",
    "    \"\"\"\n",
    "    We shall use this function to generate a URL to call the API.\n",
    "    \"\"\"\n",
    "    \n",
    "    url = BASE_URL + module + \"/\" + ID + \"/\" + action\n",
    "    \n",
    "    return url"
   ]
  },
  {
   "cell_type": "markdown",
   "id": "5aaaee1a",
   "metadata": {},
   "source": [
    "### Wrapping API endpoints in functions"
   ]
  },
  {
   "cell_type": "markdown",
   "id": "87c26649",
   "metadata": {},
   "source": [
    "> The Dune API currently has four primary end points. We are going to wrap these up in neat functions. Which shall then make it very easy to use the API. As you would see in the coming sections."
   ]
  },
  {
   "cell_type": "code",
   "execution_count": 4,
   "id": "77903990",
   "metadata": {},
   "outputs": [],
   "source": [
    "def execute_query(query_id):\n",
    "    \"\"\"\n",
    "    Takes in the query ID.\n",
    "    Calls the API to execute the query.\n",
    "    Returns the execution ID of the instance which is executing the query.\n",
    "    \"\"\"\n",
    "    \n",
    "    url = make_api_url(\"query\", \"execute\", query_id)\n",
    "    response = post(url, headers=HEADER)\n",
    "    execution_id = response.json()['execution_id']\n",
    "    \n",
    "    return execution_id\n",
    "\n",
    "\n",
    "def get_query_status(execution_id):\n",
    "    \"\"\"\n",
    "    Takes in an execution ID.\n",
    "    Fetches the status of query execution using the API\n",
    "    Returns the status response object\n",
    "    \"\"\"\n",
    "    \n",
    "    url = make_api_url(\"execution\", \"status\", execution_id)\n",
    "    response = get(url, headers=HEADER)\n",
    "    \n",
    "    return response\n",
    "\n",
    "\n",
    "def get_query_results(execution_id):\n",
    "    \"\"\"\n",
    "    Takes in an execution ID.\n",
    "    Fetches the results returned from the query using the API\n",
    "    Returns the results response object\n",
    "    \"\"\"\n",
    "    \n",
    "    url = make_api_url(\"execution\", \"results\", execution_id)\n",
    "    response = get(url, headers=HEADER)\n",
    "    \n",
    "    return response\n",
    "\n",
    "\n",
    "def cancel_query_execution(execution_id):\n",
    "    \"\"\"\n",
    "    Takes in an execution ID.\n",
    "    Cancels the ongoing execution of the query.\n",
    "    Returns the response object.\n",
    "    \"\"\"\n",
    "    \n",
    "    url = make_api_url(\"execution\", \"cancel\", execution_id)\n",
    "    response = get(url, headers=HEADER)\n",
    "    \n",
    "    return response"
   ]
  },
  {
   "cell_type": "markdown",
   "id": "58d196f1",
   "metadata": {},
   "source": [
    "# Using the API"
   ]
  },
  {
   "cell_type": "markdown",
   "id": "d3fb8508",
   "metadata": {},
   "source": [
    "### Execute a Query\n",
    "You can pass any query ID from Dune you would like to fetch data from."
   ]
  },
  {
   "cell_type": "code",
   "execution_count": 5,
   "id": "1361bff9",
   "metadata": {},
   "outputs": [],
   "source": [
    "execution_id = execute_query(\"1258228\")"
   ]
  },
  {
   "cell_type": "markdown",
   "id": "60152f67",
   "metadata": {},
   "source": [
    " > This function returned an execution ID. Which we shall now pass to rest of the APIs through our functions."
   ]
  },
  {
   "cell_type": "code",
   "execution_count": 6,
   "id": "f47ff1ee",
   "metadata": {},
   "outputs": [
    {
     "data": {
      "text/plain": [
       "'01GCX1HSVDPQN1SSQ93TR266KX'"
      ]
     },
     "execution_count": 6,
     "metadata": {},
     "output_type": "execute_result"
    }
   ],
   "source": [
    "execution_id"
   ]
  },
  {
   "cell_type": "markdown",
   "id": "ddec0267",
   "metadata": {},
   "source": [
    "### Get Query Status"
   ]
  },
  {
   "cell_type": "code",
   "execution_count": 7,
   "id": "6ec6be0a",
   "metadata": {},
   "outputs": [],
   "source": [
    "response = get_query_status(execution_id)"
   ]
  },
  {
   "cell_type": "markdown",
   "id": "f65f3035",
   "metadata": {},
   "source": [
    " > In this response object, you might primarily want to check the `state` which in our case is `QUERY_STATE_COMPLETED`. Indicating the query has completed execution."
   ]
  },
  {
   "cell_type": "code",
   "execution_count": 8,
   "id": "ea1f66a6",
   "metadata": {
    "scrolled": true
   },
   "outputs": [
    {
     "data": {
      "text/plain": [
       "{'execution_id': '01GCX1HSVDPQN1SSQ93TR266KX',\n",
       " 'query_id': 1258228,\n",
       " 'state': 'QUERY_STATE_COMPLETED',\n",
       " 'submitted_at': '2022-09-14T03:44:14.204738Z',\n",
       " 'expires_at': '2024-09-13T03:44:14.29315Z',\n",
       " 'execution_started_at': '2022-09-14T03:44:14.210044031Z',\n",
       " 'execution_ended_at': '2022-09-14T03:44:14.293148291Z',\n",
       " 'result_metadata': {'column_names': ['block_time',\n",
       "   'token_a_symbol',\n",
       "   'token_b_symbol',\n",
       "   'token_a_amount',\n",
       "   'token_b_amount',\n",
       "   'project',\n",
       "   'version',\n",
       "   'category',\n",
       "   'trader_a',\n",
       "   'trader_b',\n",
       "   'token_a_amount_raw',\n",
       "   'token_b_amount_raw',\n",
       "   'usd_amount',\n",
       "   'token_a_address',\n",
       "   'token_b_address',\n",
       "   'exchange_contract_address',\n",
       "   'tx_hash',\n",
       "   'tx_from',\n",
       "   'tx_to',\n",
       "   'trace_address',\n",
       "   'evt_index',\n",
       "   'trade_id'],\n",
       "  'result_set_bytes': 5130,\n",
       "  'total_row_count': 10,\n",
       "  'datapoint_count': 220,\n",
       "  'pending_time_millis': 5,\n",
       "  'execution_time_millis': 83}}"
      ]
     },
     "execution_count": 8,
     "metadata": {},
     "output_type": "execute_result"
    }
   ],
   "source": [
    "response.json()"
   ]
  },
  {
   "cell_type": "markdown",
   "id": "1b188356",
   "metadata": {},
   "source": [
    "### Get Query results\n",
    "Finally we would like to load the results from the execution of our query."
   ]
  },
  {
   "cell_type": "code",
   "execution_count": 9,
   "id": "4948e685",
   "metadata": {},
   "outputs": [],
   "source": [
    "response = get_query_results(execution_id)"
   ]
  },
  {
   "cell_type": "markdown",
   "id": "823c3a98",
   "metadata": {},
   "source": [
    "Lets wrap this data up in a neat pandas dataframe"
   ]
  },
  {
   "cell_type": "code",
   "execution_count": 10,
   "id": "ce917f50",
   "metadata": {},
   "outputs": [],
   "source": [
    "data = pd.DataFrame(response.json()['result']['rows'])"
   ]
  },
  {
   "cell_type": "markdown",
   "id": "83bf9ef7",
   "metadata": {},
   "source": [
    "And here is your data from your Dune query. In a table. In Python. Hurray!"
   ]
  },
  {
   "cell_type": "code",
   "execution_count": 11,
   "id": "7889b775",
   "metadata": {},
   "outputs": [
    {
     "data": {
      "text/html": [
       "<div>\n",
       "<style scoped>\n",
       "    .dataframe tbody tr th:only-of-type {\n",
       "        vertical-align: middle;\n",
       "    }\n",
       "\n",
       "    .dataframe tbody tr th {\n",
       "        vertical-align: top;\n",
       "    }\n",
       "\n",
       "    .dataframe thead th {\n",
       "        text-align: right;\n",
       "    }\n",
       "</style>\n",
       "<table border=\"1\" class=\"dataframe\">\n",
       "  <thead>\n",
       "    <tr style=\"text-align: right;\">\n",
       "      <th></th>\n",
       "      <th>block_time</th>\n",
       "      <th>category</th>\n",
       "      <th>evt_index</th>\n",
       "      <th>exchange_contract_address</th>\n",
       "      <th>project</th>\n",
       "      <th>token_a_address</th>\n",
       "      <th>token_a_amount</th>\n",
       "      <th>token_a_amount_raw</th>\n",
       "      <th>token_a_symbol</th>\n",
       "      <th>token_b_address</th>\n",
       "      <th>...</th>\n",
       "      <th>token_b_symbol</th>\n",
       "      <th>trace_address</th>\n",
       "      <th>trade_id</th>\n",
       "      <th>trader_a</th>\n",
       "      <th>trader_b</th>\n",
       "      <th>tx_from</th>\n",
       "      <th>tx_hash</th>\n",
       "      <th>tx_to</th>\n",
       "      <th>usd_amount</th>\n",
       "      <th>version</th>\n",
       "    </tr>\n",
       "  </thead>\n",
       "  <tbody>\n",
       "    <tr>\n",
       "      <th>0</th>\n",
       "      <td>2021-01-30T17:41:27+00:00</td>\n",
       "      <td>DEX</td>\n",
       "      <td>262</td>\n",
       "      <td>\\x74948a441fa42ae60fc39e993ed0a81041186566</td>\n",
       "      <td>Uniswap</td>\n",
       "      <td>\\x5af2be193a6abca9c8817001f45744777db30756</td>\n",
       "      <td>2125.028035</td>\n",
       "      <td>212502803498</td>\n",
       "      <td>VGX</td>\n",
       "      <td>\\xc02aaa39b223fe8d0a0e5c4f27ead9083c756cc2</td>\n",
       "      <td>...</td>\n",
       "      <td>WETH</td>\n",
       "      <td>[]</td>\n",
       "      <td>1</td>\n",
       "      <td>\\x19654fbe6b0d05a68c3fadb833ce1fdc66f98b77</td>\n",
       "      <td>None</td>\n",
       "      <td>\\x19654fbe6b0d05a68c3fadb833ce1fdc66f98b77</td>\n",
       "      <td>\\x86be9e16bef9807ece751ddffde6bb11aa5652cd6f25...</td>\n",
       "      <td>\\x7a250d5630b4cf539739df2c5dacb4c659f2488d</td>\n",
       "      <td>4963.830524</td>\n",
       "      <td>2</td>\n",
       "    </tr>\n",
       "    <tr>\n",
       "      <th>1</th>\n",
       "      <td>2021-02-01T18:55:51+00:00</td>\n",
       "      <td>DEX</td>\n",
       "      <td>214</td>\n",
       "      <td>\\x9f4aa9b4661f0c55b61fc12b1944f006a71c773f</td>\n",
       "      <td>Uniswap</td>\n",
       "      <td>\\xc02aaa39b223fe8d0a0e5c4f27ead9083c756cc2</td>\n",
       "      <td>0.958622</td>\n",
       "      <td>958622412961025500</td>\n",
       "      <td>WETH</td>\n",
       "      <td>\\x8a9c4dfe8b9d8962b31e4e16f8321c44d48e246e</td>\n",
       "      <td>...</td>\n",
       "      <td>NCT</td>\n",
       "      <td>[]</td>\n",
       "      <td>1</td>\n",
       "      <td>\\x7a08ed5862ba4c2887ef169a17637eadb27beecf</td>\n",
       "      <td>None</td>\n",
       "      <td>\\x979636bfeecd6a3ba720cf6eb8b7135f247e0b4a</td>\n",
       "      <td>\\x86beabdd4b5b94a0d8438a414115da77eb2c5dcd0fb5...</td>\n",
       "      <td>\\x7a08ed5862ba4c2887ef169a17637eadb27beecf</td>\n",
       "      <td>1268.075314</td>\n",
       "      <td>2</td>\n",
       "    </tr>\n",
       "    <tr>\n",
       "      <th>2</th>\n",
       "      <td>2021-01-30T22:54:23+00:00</td>\n",
       "      <td>DEX</td>\n",
       "      <td>5</td>\n",
       "      <td>\\xc2adda861f89bbb333c90c492cb837741916a225</td>\n",
       "      <td>Uniswap</td>\n",
       "      <td>\\x9f8f72aa9304c8b593d555f12ef6589cc3a579a2</td>\n",
       "      <td>18.572913</td>\n",
       "      <td>18572912800361480000</td>\n",
       "      <td>MKR</td>\n",
       "      <td>\\xc02aaa39b223fe8d0a0e5c4f27ead9083c756cc2</td>\n",
       "      <td>...</td>\n",
       "      <td>WETH</td>\n",
       "      <td>[]</td>\n",
       "      <td>1</td>\n",
       "      <td>\\x4d246be90c2f36730bb853ad41d0a189061192d3</td>\n",
       "      <td>None</td>\n",
       "      <td>\\x3a8e730807c58facb9a55f94bee7c28eb01b35f5</td>\n",
       "      <td>\\x86beb23984b03bdda3a9894f49dcb7ad165679708853...</td>\n",
       "      <td>\\x4d246be90c2f36730bb853ad41d0a189061192d3</td>\n",
       "      <td>29820.297334</td>\n",
       "      <td>2</td>\n",
       "    </tr>\n",
       "    <tr>\n",
       "      <th>3</th>\n",
       "      <td>2021-02-01T03:10:09+00:00</td>\n",
       "      <td>DEX</td>\n",
       "      <td>165</td>\n",
       "      <td>\\x11b1f53204d03e5529f09eb3091939e4fd8c9cf3</td>\n",
       "      <td>Uniswap</td>\n",
       "      <td>\\xc02aaa39b223fe8d0a0e5c4f27ead9083c756cc2</td>\n",
       "      <td>7.963170</td>\n",
       "      <td>7963170431406298000</td>\n",
       "      <td>WETH</td>\n",
       "      <td>\\x0f5d2fb29fb7d3cfee444a200298f468908cc942</td>\n",
       "      <td>...</td>\n",
       "      <td>MANA</td>\n",
       "      <td>[]</td>\n",
       "      <td>1</td>\n",
       "      <td>\\xd3d2e2692501a5c9ca623199d38826e513033a17</td>\n",
       "      <td>None</td>\n",
       "      <td>\\x1d5bd81a1dfad3d32cb5c3e5cf04a30da5af710a</td>\n",
       "      <td>\\x86becfffb8560137fc94ababe5cfc2130b75474bd68f...</td>\n",
       "      <td>\\x7a250d5630b4cf539739df2c5dacb4c659f2488d</td>\n",
       "      <td>10469.657956</td>\n",
       "      <td>2</td>\n",
       "    </tr>\n",
       "    <tr>\n",
       "      <th>4</th>\n",
       "      <td>2021-02-01T03:10:09+00:00</td>\n",
       "      <td>DEX</td>\n",
       "      <td>168</td>\n",
       "      <td>\\xd3d2e2692501a5c9ca623199d38826e513033a17</td>\n",
       "      <td>Uniswap</td>\n",
       "      <td>\\x1f9840a85d5af5bf1d1762f925bdaddc4201f984</td>\n",
       "      <td>600.000000</td>\n",
       "      <td>600000000000000000000</td>\n",
       "      <td>UNI</td>\n",
       "      <td>\\xc02aaa39b223fe8d0a0e5c4f27ead9083c756cc2</td>\n",
       "      <td>...</td>\n",
       "      <td>WETH</td>\n",
       "      <td>[]</td>\n",
       "      <td>1</td>\n",
       "      <td>\\x1d5bd81a1dfad3d32cb5c3e5cf04a30da5af710a</td>\n",
       "      <td>None</td>\n",
       "      <td>\\x1d5bd81a1dfad3d32cb5c3e5cf04a30da5af710a</td>\n",
       "      <td>\\x86becfffb8560137fc94ababe5cfc2130b75474bd68f...</td>\n",
       "      <td>\\x7a250d5630b4cf539739df2c5dacb4c659f2488d</td>\n",
       "      <td>10470.000000</td>\n",
       "      <td>2</td>\n",
       "    </tr>\n",
       "  </tbody>\n",
       "</table>\n",
       "<p>5 rows × 22 columns</p>\n",
       "</div>"
      ],
      "text/plain": [
       "                  block_time category  evt_index  \\\n",
       "0  2021-01-30T17:41:27+00:00      DEX        262   \n",
       "1  2021-02-01T18:55:51+00:00      DEX        214   \n",
       "2  2021-01-30T22:54:23+00:00      DEX          5   \n",
       "3  2021-02-01T03:10:09+00:00      DEX        165   \n",
       "4  2021-02-01T03:10:09+00:00      DEX        168   \n",
       "\n",
       "                    exchange_contract_address  project  \\\n",
       "0  \\x74948a441fa42ae60fc39e993ed0a81041186566  Uniswap   \n",
       "1  \\x9f4aa9b4661f0c55b61fc12b1944f006a71c773f  Uniswap   \n",
       "2  \\xc2adda861f89bbb333c90c492cb837741916a225  Uniswap   \n",
       "3  \\x11b1f53204d03e5529f09eb3091939e4fd8c9cf3  Uniswap   \n",
       "4  \\xd3d2e2692501a5c9ca623199d38826e513033a17  Uniswap   \n",
       "\n",
       "                              token_a_address  token_a_amount  \\\n",
       "0  \\x5af2be193a6abca9c8817001f45744777db30756     2125.028035   \n",
       "1  \\xc02aaa39b223fe8d0a0e5c4f27ead9083c756cc2        0.958622   \n",
       "2  \\x9f8f72aa9304c8b593d555f12ef6589cc3a579a2       18.572913   \n",
       "3  \\xc02aaa39b223fe8d0a0e5c4f27ead9083c756cc2        7.963170   \n",
       "4  \\x1f9840a85d5af5bf1d1762f925bdaddc4201f984      600.000000   \n",
       "\n",
       "      token_a_amount_raw token_a_symbol  \\\n",
       "0           212502803498            VGX   \n",
       "1     958622412961025500           WETH   \n",
       "2   18572912800361480000            MKR   \n",
       "3    7963170431406298000           WETH   \n",
       "4  600000000000000000000            UNI   \n",
       "\n",
       "                              token_b_address  ...  token_b_symbol  \\\n",
       "0  \\xc02aaa39b223fe8d0a0e5c4f27ead9083c756cc2  ...            WETH   \n",
       "1  \\x8a9c4dfe8b9d8962b31e4e16f8321c44d48e246e  ...             NCT   \n",
       "2  \\xc02aaa39b223fe8d0a0e5c4f27ead9083c756cc2  ...            WETH   \n",
       "3  \\x0f5d2fb29fb7d3cfee444a200298f468908cc942  ...            MANA   \n",
       "4  \\xc02aaa39b223fe8d0a0e5c4f27ead9083c756cc2  ...            WETH   \n",
       "\n",
       "  trace_address trade_id                                    trader_a  \\\n",
       "0            []        1  \\x19654fbe6b0d05a68c3fadb833ce1fdc66f98b77   \n",
       "1            []        1  \\x7a08ed5862ba4c2887ef169a17637eadb27beecf   \n",
       "2            []        1  \\x4d246be90c2f36730bb853ad41d0a189061192d3   \n",
       "3            []        1  \\xd3d2e2692501a5c9ca623199d38826e513033a17   \n",
       "4            []        1  \\x1d5bd81a1dfad3d32cb5c3e5cf04a30da5af710a   \n",
       "\n",
       "   trader_b                                     tx_from  \\\n",
       "0      None  \\x19654fbe6b0d05a68c3fadb833ce1fdc66f98b77   \n",
       "1      None  \\x979636bfeecd6a3ba720cf6eb8b7135f247e0b4a   \n",
       "2      None  \\x3a8e730807c58facb9a55f94bee7c28eb01b35f5   \n",
       "3      None  \\x1d5bd81a1dfad3d32cb5c3e5cf04a30da5af710a   \n",
       "4      None  \\x1d5bd81a1dfad3d32cb5c3e5cf04a30da5af710a   \n",
       "\n",
       "                                             tx_hash  \\\n",
       "0  \\x86be9e16bef9807ece751ddffde6bb11aa5652cd6f25...   \n",
       "1  \\x86beabdd4b5b94a0d8438a414115da77eb2c5dcd0fb5...   \n",
       "2  \\x86beb23984b03bdda3a9894f49dcb7ad165679708853...   \n",
       "3  \\x86becfffb8560137fc94ababe5cfc2130b75474bd68f...   \n",
       "4  \\x86becfffb8560137fc94ababe5cfc2130b75474bd68f...   \n",
       "\n",
       "                                        tx_to    usd_amount version  \n",
       "0  \\x7a250d5630b4cf539739df2c5dacb4c659f2488d   4963.830524       2  \n",
       "1  \\x7a08ed5862ba4c2887ef169a17637eadb27beecf   1268.075314       2  \n",
       "2  \\x4d246be90c2f36730bb853ad41d0a189061192d3  29820.297334       2  \n",
       "3  \\x7a250d5630b4cf539739df2c5dacb4c659f2488d  10469.657956       2  \n",
       "4  \\x7a250d5630b4cf539739df2c5dacb4c659f2488d  10470.000000       2  \n",
       "\n",
       "[5 rows x 22 columns]"
      ]
     },
     "execution_count": 11,
     "metadata": {},
     "output_type": "execute_result"
    }
   ],
   "source": [
    "data.head()"
   ]
  },
  {
   "cell_type": "markdown",
   "id": "e1bf2e61",
   "metadata": {},
   "source": [
    "#### If you like, you can also store this data in a CSV file."
   ]
  },
  {
   "cell_type": "code",
   "execution_count": 13,
   "id": "36336a4e",
   "metadata": {
    "scrolled": true
   },
   "outputs": [],
   "source": [
    "data.to_csv(\"sample_data.csv\")"
   ]
  },
  {
   "cell_type": "markdown",
   "id": "1e264243",
   "metadata": {},
   "source": [
    "### Cancel Query Execution"
   ]
  },
  {
   "cell_type": "markdown",
   "id": "965c6290",
   "metadata": {},
   "source": [
    " > Some queries can take a long time to execute (minutes), and you might want to interrupt this execution at times. This is how to do that."
   ]
  },
  {
   "cell_type": "code",
   "execution_count": 12,
   "id": "b1a65be1",
   "metadata": {},
   "outputs": [],
   "source": [
    "response = cancel_query_execution(execution_id)"
   ]
  },
  {
   "cell_type": "markdown",
   "id": "fab0a9c6",
   "metadata": {},
   "source": [
    "When you have a running query and call this function. You would get a response object returned to you confirming the cancellation of query execution."
   ]
  },
  {
   "cell_type": "markdown",
   "id": "d952b403",
   "metadata": {},
   "source": [
    "## Execute a Query with Parameters"
   ]
  },
  {
   "cell_type": "code",
   "execution_count": 45,
   "id": "66baf88d",
   "metadata": {},
   "outputs": [],
   "source": [
    "def execute_query_with_params(query_id, param_dict):\n",
    "    \"\"\"\n",
    "    Takes in the query ID. And a dictionary containing parameter values.\n",
    "    Calls the API to execute the query.\n",
    "    Returns the execution ID of the instance which is executing the query.\n",
    "    \"\"\"\n",
    "    \n",
    "    url = make_api_url(\"query\", \"execute\", query_id)\n",
    "    response = post(url, headers=HEADER, json={\"query_parameters\" : param_dict})\n",
    "    execution_id = response.json()['execution_id']\n",
    "    \n",
    "    return execution_id"
   ]
  },
  {
   "cell_type": "markdown",
   "id": "b5bfdfb6",
   "metadata": {},
   "source": [
    "### Create a dictionary of parameters you need to pass to the Dune parametrised Query\n",
    "For our example, we are passing an `wallet_address`. And our query shall return to us the total amount spent on gas from this `wallet_address`."
   ]
  },
  {
   "cell_type": "code",
   "execution_count": 46,
   "id": "2c3491b6",
   "metadata": {},
   "outputs": [],
   "source": [
    "parameters = {\"wallet_address\" : \"0xb10f35351ff21bb81dc02d4fd901ac5ae34e8dc4\"}"
   ]
  },
  {
   "cell_type": "markdown",
   "id": "15edaa60",
   "metadata": {},
   "source": [
    "### Pass this Dictionary of parameters with the Execution End Point\n",
    "Here we shall simply pass this to the function we have written to do this for us."
   ]
  },
  {
   "cell_type": "code",
   "execution_count": 47,
   "id": "e09cf39c",
   "metadata": {},
   "outputs": [],
   "source": [
    "execution_id = execute_query_with_params(\"638435\", parameters)"
   ]
  },
  {
   "cell_type": "markdown",
   "id": "561274f6",
   "metadata": {},
   "source": [
    "### Rest of the End Points remain the same\n",
    "Once you have the Execution ID from calling this API end point. The usage with other three API endpoints (getting status, results and cancelling execution) remains the same, irrespective of weather you executed a query with or without parameters."
   ]
  }
 ],
 "metadata": {
  "kernelspec": {
   "display_name": "Python 3 (ipykernel)",
   "language": "python",
   "name": "python3"
  },
  "language_info": {
   "codemirror_mode": {
    "name": "ipython",
    "version": 3
   },
   "file_extension": ".py",
   "mimetype": "text/x-python",
   "name": "python",
   "nbconvert_exporter": "python",
   "pygments_lexer": "ipython3",
   "version": "3.9.13"
  }
 },
 "nbformat": 4,
 "nbformat_minor": 5
}
